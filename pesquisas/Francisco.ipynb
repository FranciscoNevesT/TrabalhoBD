{
  "nbformat": 4,
  "nbformat_minor": 0,
  "metadata": {
    "kernelspec": {
      "display_name": "Python 3",
      "language": "python",
      "name": "python3"
    },
    "language_info": {
      "codemirror_mode": {
        "name": "ipython",
        "version": 3
      },
      "file_extension": ".py",
      "mimetype": "text/x-python",
      "name": "python",
      "nbconvert_exporter": "python",
      "pygments_lexer": "ipython3",
      "version": "3.8.3"
    },
    "colab": {
      "name": "Formato_padrao.ipynb",
      "provenance": [],
      "collapsed_sections": []
    }
  },
  "cells": [
    {
      "cell_type": "code",
      "metadata": {
        "id": "5w9SJ7AKCuKD"
      },
      "source": [
        "import io\n",
        "import sqlite3\n",
        "import pandas as pd\n",
        "import matplotlib.pyplot as plt\n",
        "import time\n",
        "\n",
        "\n",
        "# Download do dump:\n",
        "!wget --quiet -P /tmp/ibd/ https://raw.githubusercontent.com/FranciscoNevesT/TrabalhoBD/main/trabalho.sql"
      ],
      "execution_count": 21,
      "outputs": []
    },
    {
      "cell_type": "code",
      "metadata": {
        "id": "VXtqg4xNCzuN"
      },
      "source": [
        "conn = sqlite3.connect('/tmp/ibd/conn_trabalho.sql')\r\n",
        "cursor = conn.cursor()"
      ],
      "execution_count": 22,
      "outputs": []
    },
    {
      "cell_type": "code",
      "metadata": {
        "id": "qQePEG4jC2ND",
        "colab": {
          "base_uri": "https://localhost:8080/"
        },
        "outputId": "9c24c74f-179e-4330-860f-0da961527205"
      },
      "source": [
        "#Executar só uma vez a cada vez que abrir o colab\r\n",
        "try:\r\n",
        "  f = io.open('/tmp/ibd/trabalho.sql', 'r', encoding='ISO-8859-1')\r\n",
        "  sql = f.read()\r\n",
        "  cursor.executescript(sql)\r\n",
        "except:\r\n",
        "  print(\"falha\")"
      ],
      "execution_count": 23,
      "outputs": [
        {
          "output_type": "stream",
          "text": [
            "falha\n"
          ],
          "name": "stdout"
        }
      ]
    },
    {
      "cell_type": "markdown",
      "metadata": {
        "id": "91ZltE6rYCd2"
      },
      "source": [
        "Modelo relacional\r\n",
        "![picture](https://drive.google.com/uc?export=view&id=1IUlh5xQ4vYlVFNlvm7izcrpjvwrIPJQ5)"
      ]
    },
    {
      "cell_type": "markdown",
      "metadata": {
        "id": "UOdQY0adrF6X"
      },
      "source": [
        "Liste o NU MATRICULA, Cidade, Uf e curso dos discentes que nasceram em CARUARU (consultas\tenvolvendo\ta\tjunção\tde\ttrês\tou\tmais\trelações)"
      ]
    },
    {
      "cell_type": "code",
      "metadata": {
        "id": "oWLaPoSgPtyl"
      },
      "source": [
        "tempos1 = []\r\n",
        "tempos2 = []"
      ],
      "execution_count": 24,
      "outputs": []
    },
    {
      "cell_type": "code",
      "metadata": {
        "colab": {
          "base_uri": "https://localhost:8080/"
        },
        "id": "QKxklcbqDCwy",
        "outputId": "6162d15b-9f17-4207-9f0a-2a38f7d52cf6"
      },
      "source": [
        "tempo = time.time()\r\n",
        "\r\n",
        "query = \"\"\"\r\n",
        "Select D.NU_MATRICULA, Cidade, UF, Curso\r\n",
        "From Discente as D, Cursa as C, Curso as Cr, Localidade as L\r\n",
        "Where D.NU_MATRICULA = C.NU_MATRICULA AND C.CD_INEP = Cr.CD_INEP AND D.COD_LOCAL = L.COD_LOCAL AND Cidade = \"CARUARU\"\r\n",
        "\r\n",
        "\"\"\"\r\n",
        "df = pd.read_sql_query(query, conn)\r\n",
        "\r\n",
        "tempos1.append(time.time() - tempo)\r\n",
        "print(df)\r\n"
      ],
      "execution_count": 25,
      "outputs": [
        {
          "output_type": "stream",
          "text": [
            "      NU_MATRICULA   CIDADE  UF                         CURSO\n",
            "0        200665077  CARUARU  PE            ADMINISTRAÇÃO -CAA\n",
            "1        200715447  CARUARU  PE  ENGENHARIA DE PRODUÇÃO - CAA\n",
            "2        200739520  CARUARU  PE                  DESIGN - CAA\n",
            "3        200739949  CARUARU  PE  ENGENHARIA DE PRODUÇÃO - CAA\n",
            "4        200741402  CARUARU  PE  ENGENHARIA DE PRODUÇÃO - CAA\n",
            "...            ...      ...  ..                           ...\n",
            "1453     200986234  CARUARU  PE        ENGENHARIA CIVIL - CAA\n",
            "1454     200986245  CARUARU  PE                MEDICINA - CAA\n",
            "1455     200986678  CARUARU  PE                        TEATRO\n",
            "1456     200987143  CARUARU  PE      COMUNICAÇÃO SOCIAL - CAA\n",
            "1457     200987234  CARUARU  PE      COMUNICAÇÃO SOCIAL - CAA\n",
            "\n",
            "[1458 rows x 4 columns]\n"
          ],
          "name": "stdout"
        }
      ]
    },
    {
      "cell_type": "code",
      "metadata": {
        "colab": {
          "base_uri": "https://localhost:8080/"
        },
        "id": "-YlcHexC0Ok6",
        "outputId": "e17babf2-e407-47a4-bc7e-85019ee71ae5"
      },
      "source": [
        "tempo = time.time()\r\n",
        "\r\n",
        "query = \"\"\"\r\n",
        "Select NU_MATRICULA, Cidade, UF, Curso\r\n",
        "From Curso Natural Join (Select NU_MATRICULA, CIDADE, UF, CD_INEP\r\n",
        "                          From Cursa Natural join (Select NU_MATRICULA, CIDADE, UF\r\n",
        "                                                  From Discente Natural Join (Select *\r\n",
        "                                                                              From Localidade\r\n",
        "                                                                              Where Cidade = \"CARUARU\")))\r\n",
        "\r\n",
        "\"\"\"\r\n",
        "df = pd.read_sql_query(query, conn)\r\n",
        "\r\n",
        "tempos2.append(time.time() - tempo)\r\n",
        "print(df)"
      ],
      "execution_count": 26,
      "outputs": [
        {
          "output_type": "stream",
          "text": [
            "      NU_MATRICULA   CIDADE  UF                         CURSO\n",
            "0        200665077  CARUARU  PE            ADMINISTRAÇÃO -CAA\n",
            "1        200715447  CARUARU  PE  ENGENHARIA DE PRODUÇÃO - CAA\n",
            "2        200739520  CARUARU  PE                  DESIGN - CAA\n",
            "3        200739949  CARUARU  PE  ENGENHARIA DE PRODUÇÃO - CAA\n",
            "4        200741402  CARUARU  PE  ENGENHARIA DE PRODUÇÃO - CAA\n",
            "...            ...      ...  ..                           ...\n",
            "1453     200986234  CARUARU  PE        ENGENHARIA CIVIL - CAA\n",
            "1454     200986245  CARUARU  PE                MEDICINA - CAA\n",
            "1455     200986678  CARUARU  PE                        TEATRO\n",
            "1456     200987143  CARUARU  PE      COMUNICAÇÃO SOCIAL - CAA\n",
            "1457     200987234  CARUARU  PE      COMUNICAÇÃO SOCIAL - CAA\n",
            "\n",
            "[1458 rows x 4 columns]\n"
          ],
          "name": "stdout"
        }
      ]
    },
    {
      "cell_type": "markdown",
      "metadata": {
        "id": "rTQ8bf79rMDg"
      },
      "source": [
        "Liste o NU MATRICULA, o nome da deficiencia e o curso dos discentes que possuem alguma defieciencia fisica. (consultas\tenvolvendo\ta\tjunção\tde\ttrês\tou\tmais\trelações)"
      ]
    },
    {
      "cell_type": "code",
      "metadata": {
        "colab": {
          "base_uri": "https://localhost:8080/"
        },
        "id": "vl2v0H1h1O1L",
        "outputId": "19dd24c5-f171-43dc-a427-f45115f25d76"
      },
      "source": [
        "tempo = time.time()\r\n",
        "\r\n",
        "query = \"\"\"\r\n",
        "Select D.NU_MATRICULA, NOME, CURSO\r\n",
        "From Discente as D, Possui P, DEFICIENCIA as De, Cursa as C, Curso as Cr\r\n",
        "Where D.NU_MATRICULA = C.NU_MATRICULA AND C.CD_INEP = Cr.CD_INEP AND D.NU_MATRICULA = P.NU_MATRICULA AND P.COD_DEFICIENCIA = De.COD_DEFICIENCIA AND Tipo = \"FISICA\"\r\n",
        "\r\n",
        "\"\"\"\r\n",
        "df = pd.read_sql_query(query, conn)\r\n",
        "\r\n",
        "tempos1.append(time.time() - tempo)\r\n",
        "print(df)"
      ],
      "execution_count": 27,
      "outputs": [
        {
          "output_type": "stream",
          "text": [
            "     NU_MATRICULA      NOME                            CURSO\n",
            "0       200711907    FISICA          ARQUITETURA E URBANISMO\n",
            "1       200711973  MULTIPLA                EXPRESSÃO GRÁFICA\n",
            "2       200780001    FISICA  LETRAS PORTUGUÊS - LICENCIATURA\n",
            "3       200802890    FISICA                      ODONTOLOGIA\n",
            "4       200803658    FISICA                       MUSEOLOGIA\n",
            "..            ...       ...                              ...\n",
            "269     200986665  AUDITIVA                         MEDICINA\n",
            "270     200986707    FISICA                         MEDICINA\n",
            "271     200986722  AUDITIVA                        PEDAGOGIA\n",
            "272     200987084  AUDITIVA                         ISOLADAS\n",
            "273     200987196    SURDEZ                         MEDICINA\n",
            "\n",
            "[274 rows x 3 columns]\n"
          ],
          "name": "stdout"
        }
      ]
    },
    {
      "cell_type": "code",
      "metadata": {
        "colab": {
          "base_uri": "https://localhost:8080/"
        },
        "id": "HxXErV4Gq9op",
        "outputId": "e852f449-b2f4-44a0-c834-442e90930e25"
      },
      "source": [
        "tempo = time.time()\r\n",
        "\r\n",
        "query = \"\"\"\r\n",
        "Select NU_MATRICULA, NOME, CURSO\r\n",
        "\r\n",
        "From Cursa Natural Join  (Select NU_MATRICULA, Nome\r\n",
        "      From Discente Natural Join Possui Natural Join Deficiencia \r\n",
        "      Where TIPO == \"FISICA\") Natural Join Curso\r\n",
        "\"\"\"\r\n",
        "df = pd.read_sql_query(query, conn)\r\n",
        "\r\n",
        "tempos2.append(time.time() - tempo)\r\n",
        "print(df)"
      ],
      "execution_count": 28,
      "outputs": [
        {
          "output_type": "stream",
          "text": [
            "     NU_MATRICULA      Nome                            CURSO\n",
            "0       200711907    FISICA          ARQUITETURA E URBANISMO\n",
            "1       200711973  MULTIPLA                EXPRESSÃO GRÁFICA\n",
            "2       200780001    FISICA  LETRAS PORTUGUÊS - LICENCIATURA\n",
            "3       200802890    FISICA                      ODONTOLOGIA\n",
            "4       200803658    FISICA                       MUSEOLOGIA\n",
            "..            ...       ...                              ...\n",
            "269     200986665  AUDITIVA                         MEDICINA\n",
            "270     200986707    FISICA                         MEDICINA\n",
            "271     200986722  AUDITIVA                        PEDAGOGIA\n",
            "272     200987084  AUDITIVA                         ISOLADAS\n",
            "273     200987196    SURDEZ                         MEDICINA\n",
            "\n",
            "[274 rows x 3 columns]\n"
          ],
          "name": "stdout"
        }
      ]
    },
    {
      "cell_type": "markdown",
      "metadata": {
        "id": "rCOgvv2drUzf"
      },
      "source": [
        "Liste o NU_MATRICULA, cidade e o curso dos discentes que nasceram na cidade em que nasceram o maior numero de discentes (consultas\tenvolvendo\tfunções\tde\tagregação\tsobre\to\tresultado\tda\tjunção\tde\tpelo\tmenos\tduas\trelações)"
      ]
    },
    {
      "cell_type": "code",
      "metadata": {
        "colab": {
          "base_uri": "https://localhost:8080/"
        },
        "id": "ozCPfpfT3Bhs",
        "outputId": "e2a77843-0f70-4c6e-de76-a16cf1fdee0d"
      },
      "source": [
        "tempo = time.time()\r\n",
        "\r\n",
        "query = \"\"\"\r\n",
        "Select D.NU_MATRICULA, Cidade, Curso\r\n",
        "From Discente as D, Cursa as C, Curso as Cr,  (Select L.COD_LOCAL,Cidade,Count(NU_MATRICULA) as quantidade\r\n",
        "                                                From Localidade as L, Discente as D\r\n",
        "                                                Where D.COD_LOCAL = L.COD_LOCAL\r\n",
        "                                                Group BY CIDADE\r\n",
        "                                                Order by quantidade desc\r\n",
        "                                                Limit 1) as V\r\n",
        "Where D.COD_LOCAL = V.COD_LOCAL AND D.NU_MATRICULA = C.NU_MATRICULA AND C.CD_INEP = Cr.CD_INEP\r\n",
        "\r\n",
        "\"\"\"\r\n",
        "df = pd.read_sql_query(query, conn)\r\n",
        "\r\n",
        "tempos1.append(time.time() - tempo)\r\n",
        "print(df)"
      ],
      "execution_count": 29,
      "outputs": [
        {
          "output_type": "stream",
          "text": [
            "       NU_MATRICULA  Cidade                        CURSO\n",
            "0         200102627  RECIFE                     GEOLOGIA\n",
            "1         200306046  RECIFE                     ISOLADAS\n",
            "2         200306372  RECIFE                     ISOLADAS\n",
            "3         200406008  RECIFE                     ISOLADAS\n",
            "4         200644864  RECIFE      GEOGRAFIA - BACHARELADO\n",
            "...             ...     ...                          ...\n",
            "17554     200987197  RECIFE                      DIREITO\n",
            "17555     200987226  RECIFE  CIÊNCIA DA COMPUTAÇÃO - CIN\n",
            "17556     200987228  RECIFE             ABI - ENGENHARIA\n",
            "17557     200987235  RECIFE                   JORNALISMO\n",
            "17558     200987244  RECIFE          CIÊNCIAS ECONÔMICAS\n",
            "\n",
            "[17559 rows x 3 columns]\n"
          ],
          "name": "stdout"
        }
      ]
    },
    {
      "cell_type": "code",
      "metadata": {
        "colab": {
          "base_uri": "https://localhost:8080/"
        },
        "id": "nbvICotOHbGW",
        "outputId": "888644b1-56e0-47c0-a704-278a26e9163e"
      },
      "source": [
        "tempo = time.time()\r\n",
        "\r\n",
        "query = \"\"\"\r\n",
        "Select NU_MATRICULA, Cidade, Curso\r\n",
        "From Curso Natural Join Cursa Natural Join (Select NU_MATRICULA, Cidade\r\n",
        "                                            From Discente Natural Join (Select COD_LOCAL,Cidade,Count(NU_MATRICULA) as quantidade\r\n",
        "                                                                             From Localidade Natural Join Discente as D\r\n",
        "                                                                             Group BY CIDADE\r\n",
        "                                                                             Order by quantidade desc\r\n",
        "                                                                             Limit 1) )\r\n",
        "\r\n",
        "\r\n",
        "\r\n",
        "\"\"\"\r\n",
        "df = pd.read_sql_query(query, conn)\r\n",
        "\r\n",
        "tempos2.append(time.time() - tempo)\r\n",
        "print(df)"
      ],
      "execution_count": 30,
      "outputs": [
        {
          "output_type": "stream",
          "text": [
            "       NU_MATRICULA  Cidade                        CURSO\n",
            "0         200102627  RECIFE                     GEOLOGIA\n",
            "1         200306046  RECIFE                     ISOLADAS\n",
            "2         200306372  RECIFE                     ISOLADAS\n",
            "3         200406008  RECIFE                     ISOLADAS\n",
            "4         200644864  RECIFE      GEOGRAFIA - BACHARELADO\n",
            "...             ...     ...                          ...\n",
            "17554     200987197  RECIFE                      DIREITO\n",
            "17555     200987226  RECIFE  CIÊNCIA DA COMPUTAÇÃO - CIN\n",
            "17556     200987228  RECIFE             ABI - ENGENHARIA\n",
            "17557     200987235  RECIFE                   JORNALISMO\n",
            "17558     200987244  RECIFE          CIÊNCIAS ECONÔMICAS\n",
            "\n",
            "[17559 rows x 3 columns]\n"
          ],
          "name": "stdout"
        }
      ]
    },
    {
      "cell_type": "markdown",
      "metadata": {
        "id": "y9PdKdJPrWzn"
      },
      "source": [
        "Liste o NU_MATRICULA, cidade e o nome do curso dos discentes que cursam o curso com o maior numero de discentes (consultas\tenvolvendo\tfunções\tde\tagregação\tsobre\to\tresultado\tda\tjunção\tde\tpelo\tmenos\tduas\trelações)"
      ]
    },
    {
      "cell_type": "code",
      "metadata": {
        "colab": {
          "base_uri": "https://localhost:8080/"
        },
        "id": "U7uOuS6cBruB",
        "outputId": "4090fb44-d99e-481d-dce4-16a79c937bc0"
      },
      "source": [
        "tempo = time.time()\r\n",
        "\r\n",
        "query = \"\"\"\r\n",
        "Select D.NU_MATRICULA, Cidade, Curso\r\n",
        "From Discente as D,  Cursa as C, Localidade as L, (Select C.CD_INEP, CURSO, Count(D.NU_MATRICULA) as quantidade\r\n",
        "                                                  From Discente as D, Cursa as C, Curso as Cr\r\n",
        "                                                  Where D.NU_MATRICULA = C.NU_MATRICULA AND C.CD_INEP = Cr.CD_INEP\r\n",
        "                                                  Group By C.CD_INEP\r\n",
        "                                                  Order by quantidade desc\r\n",
        "                                                  Limit 1) as V\r\n",
        "Where C.CD_INEP = V.CD_INEP AND D.NU_MATRICULA = C.NU_MATRICULA AND L.COD_LOCAL = D.COD_LOCAL\r\n",
        "\r\n",
        "\r\n",
        "\"\"\"\r\n",
        "df = pd.read_sql_query(query, conn)\r\n",
        "\r\n",
        "tempos1.append(time.time() - tempo)\r\n",
        "print(df)"
      ],
      "execution_count": 31,
      "outputs": [
        {
          "output_type": "stream",
          "text": [
            "      NU_MATRICULA     CIDADE    CURSO\n",
            "0        200710348     RECIFE  DIREITO\n",
            "1        200740648     RECIFE  DIREITO\n",
            "2        200741988     OLINDA  DIREITO\n",
            "3        200744576     OLINDA  DIREITO\n",
            "4        200770912     RECIFE  DIREITO\n",
            "...            ...        ...      ...\n",
            "1315     200985522     RECIFE  DIREITO\n",
            "1316     200986460  GUARABIRA  DIREITO\n",
            "1317     200986641     TABIRA  DIREITO\n",
            "1318     200987197     RECIFE  DIREITO\n",
            "1319     200987229  ARCOVERDE  DIREITO\n",
            "\n",
            "[1320 rows x 3 columns]\n"
          ],
          "name": "stdout"
        }
      ]
    },
    {
      "cell_type": "code",
      "metadata": {
        "colab": {
          "base_uri": "https://localhost:8080/"
        },
        "id": "pih4UbImKOFp",
        "outputId": "d02632cb-60e1-4c07-e424-f40556da965e"
      },
      "source": [
        "tempo = time.time()\r\n",
        "\r\n",
        "query = \"\"\"\r\n",
        "Select NU_MATRICULA, Cidade, Curso\r\n",
        "From Localidade Natural Join (Select NU_MATRICULA,CURSO,COD_LOCAL\r\n",
        "                              From Discente Natural Join Cursa Natural Join (Select CD_INEP, Count(NU_MATRICULA) as numero\r\n",
        "                                                                              From Discente Natural Join Cursa \r\n",
        "                                                                              Group By CD_INEP\r\n",
        "                                                                              Order By numero desc\r\n",
        "                                                                              Limit 1) Natural Join Curso)\r\n",
        "\r\n",
        "\r\n",
        "\r\n",
        "\"\"\"\r\n",
        "df = pd.read_sql_query(query, conn)\r\n",
        "\r\n",
        "tempos2.append(time.time() - tempo)\r\n",
        "print(df)"
      ],
      "execution_count": 32,
      "outputs": [
        {
          "output_type": "stream",
          "text": [
            "      NU_MATRICULA     CIDADE    CURSO\n",
            "0        200710348     RECIFE  DIREITO\n",
            "1        200740648     RECIFE  DIREITO\n",
            "2        200741988     OLINDA  DIREITO\n",
            "3        200744576     OLINDA  DIREITO\n",
            "4        200770912     RECIFE  DIREITO\n",
            "...            ...        ...      ...\n",
            "1315     200985522     RECIFE  DIREITO\n",
            "1316     200986460  GUARABIRA  DIREITO\n",
            "1317     200986641     TABIRA  DIREITO\n",
            "1318     200987197     RECIFE  DIREITO\n",
            "1319     200987229  ARCOVERDE  DIREITO\n",
            "\n",
            "[1320 rows x 3 columns]\n"
          ],
          "name": "stdout"
        }
      ]
    },
    {
      "cell_type": "code",
      "metadata": {
        "colab": {
          "base_uri": "https://localhost:8080/"
        },
        "id": "uqte34UjQHlt",
        "outputId": "7fe52ae2-71b1-479e-dd03-7bb5d82c0b08"
      },
      "source": [
        "for x in range(len(tempos1)):\r\n",
        "  print(\"{}: {} | {}\".format(x,tempos1[x],tempos2[x]))"
      ],
      "execution_count": 33,
      "outputs": [
        {
          "output_type": "stream",
          "text": [
            "0: 0.03570985794067383 | 0.029215097427368164\n",
            "1: 0.020254135131835938 | 0.019949674606323242\n",
            "2: 0.07918858528137207 | 0.07682490348815918\n",
            "3: 0.06134295463562012 | 0.032758235931396484\n"
          ],
          "name": "stdout"
        }
      ]
    }
  ]
}